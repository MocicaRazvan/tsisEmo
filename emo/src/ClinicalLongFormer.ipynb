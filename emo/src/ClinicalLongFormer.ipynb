{
  "metadata": {
    "kernelspec": {
      "language": "python",
      "display_name": "Python 3",
      "name": "python3"
    },
    "language_info": {
      "name": "python",
      "version": "3.10.12",
      "mimetype": "text/x-python",
      "codemirror_mode": {
        "name": "ipython",
        "version": 3
      },
      "pygments_lexer": "ipython3",
      "nbconvert_exporter": "python",
      "file_extension": ".py"
    },
    "kaggle": {
      "accelerator": "gpu",
      "dataSources": [],
      "dockerImageVersionId": 30588,
      "isInternetEnabled": false,
      "language": "python",
      "sourceType": "notebook",
      "isGpuEnabled": true
    },
    "colab": {
      "provenance": []
    }
  },
  "nbformat_minor": 0,
  "nbformat": 4,
  "cells": [
    {
      "cell_type": "code",
      "source": [
        "import numpy as np\n",
        "import pandas as pd\n",
        "from sklearn import metrics\n",
        "import transformers\n",
        "import torch\n",
        "from torch.utils.data import Dataset, DataLoader\n",
        "from transformers import AutoTokenizer, AutoModelForSequenceClassification, AdamW\n",
        "\n",
        "# Define your configuration variables\n",
        "MAX_LEN = 200\n",
        "TRAIN_BATCH_SIZE = 8\n",
        "VALID_BATCH_SIZE = 8\n",
        "EPOCHS = 5\n",
        "LEARNING_RATE = 1e-05\n",
        "device = torch.device('cuda' if torch.cuda.is_available() else 'cpu')\n",
        "\n",
        "# Load your CSV data for both training and validation\n",
        "train_df = pd.read_csv(\"data/Training set (Clinical_dataset).csv\")[[\"story\", \"anger\", \"fear\", \"sadness\", \"calmness\", \"disgust\", \"pleasantness\", \"eagerness\", \"joy\"]]\n",
        "val_df = pd.read_csv(\"data/Validation set (Clinical_dataset).csv\")[[\"story\", \"anger\", \"fear\", \"sadness\", \"calmness\", \"disgust\", \"pleasantness\", \"eagerness\", \"joy\"]]\n",
        "\n",
        "# Initialize the ClinicalLongFormer tokenizer\n",
        "tokenizer = AutoTokenizer.from_pretrained('yikuan8/Clinical-Longformer')\n",
        "\n",
        "# Create a custom dataset class\n",
        "class CustomDataset(Dataset):\n",
        "    def __init__(self, dataframe, tokenizer, max_len):\n",
        "        self.tokenizer = tokenizer\n",
        "        self.data = dataframe\n",
        "        self.comment_text = dataframe.story\n",
        "        self.targets = self.data[list(dataframe.columns[1:])]\n",
        "        self.max_len = max_len\n",
        "\n",
        "    def __len__(self):\n",
        "        return len(self.comment_text)\n",
        "\n",
        "    def __getitem__(self, index):\n",
        "        comment_text = str(self.comment_text[index])\n",
        "        comment_text = \" \".join(comment_text.split())\n",
        "\n",
        "        inputs = self.tokenizer.encode_plus(\n",
        "            comment_text,\n",
        "            None,\n",
        "            add_special_tokens=True,\n",
        "            max_length=self.max_len,\n",
        "            padding=\"max_length\",\n",
        "            return_token_type_ids=True,\n",
        "            truncation=True\n",
        "        )\n",
        "        ids = inputs['input_ids']\n",
        "        mask = inputs['attention_mask']\n",
        "        token_type_ids = inputs[\"token_type_ids\"]\n",
        "\n",
        "        return {\n",
        "            'ids': torch.tensor(ids, dtype=torch.long),\n",
        "            'mask': torch.tensor(mask, dtype=torch.long),\n",
        "            'token_type_ids': torch.tensor(token_type_ids, dtype=torch.long),\n",
        "            'targets': torch.tensor(self.targets.iloc[index].values, dtype=torch.float)\n",
        "        }\n"
      ],
      "metadata": {
        "id": "3s2hmM1xhs8p",
        "execution": {
          "iopub.status.busy": "2023-11-21T15:08:45.038163Z",
          "iopub.execute_input": "2023-11-21T15:08:45.038522Z",
          "iopub.status.idle": "2023-11-21T15:08:54.472050Z",
          "shell.execute_reply.started": "2023-11-21T15:08:45.038491Z",
          "shell.execute_reply": "2023-11-21T15:08:54.471248Z"
        },
        "trusted": true,
        "colab": {
          "referenced_widgets": [
            "caa397ab06ee41489071418eb71308b5",
            "73905fbac51f419894ebbed534ce765f",
            "4265da509e5848ada1b989d288bc0d94",
            "44bd931e590d4feea8baf277418829b9",
            "beba45f632654d6bb6c4c06ea5f50ca7"
          ]
        },
        "outputId": "e16300df-1a46-45bf-979f-986c7a8efeee"
      },
      "execution_count": null,
      "outputs": [
        {
          "name": "stderr",
          "text": "/opt/conda/lib/python3.10/site-packages/scipy/__init__.py:146: UserWarning: A NumPy version >=1.16.5 and <1.23.0 is required for this version of SciPy (detected version 1.24.3\n  warnings.warn(f\"A NumPy version >={np_minversion} and <{np_maxversion}\"\n",
          "output_type": "stream"
        },
        {
          "output_type": "display_data",
          "data": {
            "text/plain": "Downloading tokenizer_config.json:   0%|          | 0.00/347 [00:00<?, ?B/s]",
            "application/vnd.jupyter.widget-view+json": {
              "version_major": 2,
              "version_minor": 0,
              "model_id": "caa397ab06ee41489071418eb71308b5"
            }
          },
          "metadata": {}
        },
        {
          "output_type": "display_data",
          "data": {
            "text/plain": "Downloading vocab.json:   0%|          | 0.00/798k [00:00<?, ?B/s]",
            "application/vnd.jupyter.widget-view+json": {
              "version_major": 2,
              "version_minor": 0,
              "model_id": "73905fbac51f419894ebbed534ce765f"
            }
          },
          "metadata": {}
        },
        {
          "output_type": "display_data",
          "data": {
            "text/plain": "Downloading merges.txt:   0%|          | 0.00/456k [00:00<?, ?B/s]",
            "application/vnd.jupyter.widget-view+json": {
              "version_major": 2,
              "version_minor": 0,
              "model_id": "4265da509e5848ada1b989d288bc0d94"
            }
          },
          "metadata": {}
        },
        {
          "output_type": "display_data",
          "data": {
            "text/plain": "Downloading tokenizer.json:   0%|          | 0.00/1.36M [00:00<?, ?B/s]",
            "application/vnd.jupyter.widget-view+json": {
              "version_major": 2,
              "version_minor": 0,
              "model_id": "44bd931e590d4feea8baf277418829b9"
            }
          },
          "metadata": {}
        },
        {
          "output_type": "display_data",
          "data": {
            "text/plain": "Downloading (…)cial_tokens_map.json:   0%|          | 0.00/239 [00:00<?, ?B/s]",
            "application/vnd.jupyter.widget-view+json": {
              "version_major": 2,
              "version_minor": 0,
              "model_id": "beba45f632654d6bb6c4c06ea5f50ca7"
            }
          },
          "metadata": {}
        }
      ]
    },
    {
      "cell_type": "markdown",
      "source": [
        "# New Section"
      ],
      "metadata": {
        "id": "4kN9rlTpLs1A"
      }
    },
    {
      "cell_type": "code",
      "source": [
        "# Create datasets and data loaders for both training and validation\n",
        "training_set = CustomDataset(train_df, tokenizer, MAX_LEN)\n",
        "validation_set = CustomDataset(val_df, tokenizer, MAX_LEN)\n",
        "\n",
        "train_params = {'batch_size': TRAIN_BATCH_SIZE, 'shuffle': True, 'num_workers': 0}\n",
        "valid_params = {'batch_size': VALID_BATCH_SIZE, 'shuffle': False, 'num_workers': 0}\n",
        "\n",
        "training_loader = DataLoader(training_set, **train_params)\n",
        "validation_loader = DataLoader(validation_set, **valid_params)\n",
        "\n",
        "# Define the ClinicalBERT model\n",
        "model = AutoModelForSequenceClassification.from_pretrained('yikuan8/Clinical-Longformer', num_labels=8)\n",
        "model.to(device)\n",
        "\n",
        "# Define the optimizer\n",
        "optimizer = AdamW(model.parameters(), lr=LEARNING_RATE)\n",
        "\n",
        "# # Define the loss function\n",
        "# def loss_fn(outputs, targets):\n",
        "#     return torch.nn.BCEWithLogitsLoss()(outputs, targets)\n",
        "\n",
        "# Define the loss function\n",
        "def loss_fn(outputs, targets):\n",
        "    # Extract logits from the outputs\n",
        "    logits = outputs.logits\n",
        "\n",
        "    return torch.nn.BCEWithLogitsLoss()(logits, targets)\n",
        "\n",
        "# Training loop\n",
        "for epoch in range(EPOCHS):\n",
        "    model.train()\n",
        "    train_losses = []\n",
        "\n",
        "    for data in training_loader:\n",
        "        ids = data['ids'].to(device, dtype=torch.long)\n",
        "        mask = data['mask'].to(device, dtype=torch.long)\n",
        "        token_type_ids = data['token_type_ids'].to(device, dtype=torch.long)\n",
        "        targets = data['targets'].to(device, dtype=torch.float)\n",
        "\n",
        "        optimizer.zero_grad()\n",
        "        outputs = model(ids, mask, token_type_ids)\n",
        "        loss = loss_fn(outputs, targets)\n",
        "        train_losses.append(loss.item())\n",
        "        loss.backward()\n",
        "        optimizer.step()\n",
        "\n",
        "    avg_train_loss = sum(train_losses) / len(train_losses)\n",
        "    print(f'Epoch {epoch + 1}, Training Loss: {avg_train_loss:.4f}')\n"
      ],
      "metadata": {
        "id": "pcMWeGAOhs_n",
        "outputId": "81b7fea5-c50f-48cd-de9c-10c479d6a24c",
        "execution": {
          "iopub.status.busy": "2023-11-21T15:08:54.473115Z",
          "iopub.execute_input": "2023-11-21T15:08:54.473421Z",
          "iopub.status.idle": "2023-11-21T18:46:48.258786Z",
          "shell.execute_reply.started": "2023-11-21T15:08:54.473396Z",
          "shell.execute_reply": "2023-11-21T18:46:48.257800Z"
        },
        "trusted": true,
        "colab": {
          "referenced_widgets": [
            "15424687676b4adc93cae3ea10fb3204",
            "331457bec36a40fba6975a4708572e17"
          ]
        }
      },
      "execution_count": null,
      "outputs": [
        {
          "output_type": "display_data",
          "data": {
            "text/plain": "Downloading config.json:   0%|          | 0.00/929 [00:00<?, ?B/s]",
            "application/vnd.jupyter.widget-view+json": {
              "version_major": 2,
              "version_minor": 0,
              "model_id": "15424687676b4adc93cae3ea10fb3204"
            }
          },
          "metadata": {}
        },
        {
          "output_type": "display_data",
          "data": {
            "text/plain": "Downloading pytorch_model.bin:   0%|          | 0.00/595M [00:00<?, ?B/s]",
            "application/vnd.jupyter.widget-view+json": {
              "version_major": 2,
              "version_minor": 0,
              "model_id": "331457bec36a40fba6975a4708572e17"
            }
          },
          "metadata": {}
        },
        {
          "name": "stderr",
          "text": "Some weights of LongformerForSequenceClassification were not initialized from the model checkpoint at yikuan8/Clinical-Longformer and are newly initialized: ['classifier.dense.weight', 'classifier.out_proj.bias', 'classifier.out_proj.weight', 'classifier.dense.bias']\nYou should probably TRAIN this model on a down-stream task to be able to use it for predictions and inference.\n/opt/conda/lib/python3.10/site-packages/transformers/optimization.py:411: FutureWarning: This implementation of AdamW is deprecated and will be removed in a future version. Use the PyTorch implementation torch.optim.AdamW instead, or set `no_deprecation_warning=True` to disable this warning\n  warnings.warn(\n",
          "output_type": "stream"
        },
        {
          "name": "stdout",
          "text": "Epoch 1, Training Loss: 0.3248\nEpoch 2, Training Loss: 0.2213\nEpoch 3, Training Loss: 0.1817\nEpoch 4, Training Loss: 0.1587\nEpoch 5, Training Loss: 0.1382\n",
          "output_type": "stream"
        }
      ]
    },
    {
      "cell_type": "code",
      "source": [
        "from sklearn.metrics import hamming_loss\n",
        "from sklearn.metrics import accuracy_score, precision_score, recall_score, f1_score"
      ],
      "metadata": {
        "id": "ZAbVVGMs5ZiT",
        "execution": {
          "iopub.status.busy": "2023-11-21T18:46:48.260414Z",
          "iopub.execute_input": "2023-11-21T18:46:48.260883Z",
          "iopub.status.idle": "2023-11-21T18:46:48.264827Z",
          "shell.execute_reply.started": "2023-11-21T18:46:48.260853Z",
          "shell.execute_reply": "2023-11-21T18:46:48.263938Z"
        },
        "trusted": true
      },
      "execution_count": null,
      "outputs": []
    },
    {
      "cell_type": "code",
      "source": [
        "def validate_model():\n",
        "    model.eval()\n",
        "    val_losses = []\n",
        "\n",
        "    val_targets = []\n",
        "    val_predictions = []\n",
        "\n",
        "    with torch.no_grad():\n",
        "        for data in validation_loader:\n",
        "            ids = data['ids'].to(device, dtype=torch.long)\n",
        "            mask = data['mask'].to(device, dtype=torch.long)\n",
        "            token_type_ids = data['token_type_ids'].to(device, dtype=torch.long)\n",
        "            targets = data['targets'].to(device, dtype=torch.float)\n",
        "\n",
        "            outputs = model(ids, mask, token_type_ids)\n",
        "            loss = loss_fn(outputs, targets)\n",
        "            val_losses.append(loss.item())\n",
        "\n",
        "            val_predictions.extend(outputs.logits.cpu().numpy())\n",
        "            val_targets.extend(targets.cpu().numpy())\n",
        "\n",
        "    # Convert val_targets and val_predictions to NumPy arrays\n",
        "    val_targets = np.array(val_targets)\n",
        "    val_predictions = np.array(val_predictions)\n",
        "\n",
        "    # Apply threshold of 0.5 to convert to binary values\n",
        "    val_predictions = (val_predictions >= 0.5).astype(int)\n",
        "\n",
        "    # Calculate Hamming Loss\n",
        "    hamming_loss_value = hamming_loss(val_targets, val_predictions)\n",
        "\n",
        "    # Calculate Exact Match Ratio\n",
        "    exact_match_ratio = accuracy_score(val_targets, val_predictions)\n",
        "\n",
        "    print(f'Hamming Loss: {hamming_loss_value:.4f}')\n",
        "    print(f'Exact Match Ratio: {exact_match_ratio:.4f}')\n",
        "\n",
        "    # Calculate and print accuracy, precision, recall, and F1-score for each class\n",
        "    for i, target_name in enumerate(val_df.columns[1:]):\n",
        "        target_labels = val_targets[:, i]\n",
        "        predicted_labels = (val_predictions[:, i] > 0.5)\n",
        "\n",
        "        accuracy = accuracy_score(target_labels, predicted_labels)\n",
        "        precision = precision_score(target_labels, predicted_labels, zero_division=0)\n",
        "        recall = recall_score(target_labels, predicted_labels)\n",
        "        f1 = f1_score(target_labels, predicted_labels)\n",
        "\n",
        "        print(f'Class: {target_name}')\n",
        "        print(f'Accuracy: {accuracy:.4f}')\n",
        "        print(f'Precision: {precision:.4f}')\n",
        "        print(f'Recall: {recall:.4f}')\n",
        "        print(f'F1-Score: {f1:.4f}')\n",
        "\n",
        "    # Return the average validation loss\n",
        "    return sum(val_losses) / len(val_losses)"
      ],
      "metadata": {
        "id": "ydfBzSFGi1Kb",
        "execution": {
          "iopub.status.busy": "2023-11-21T18:46:48.265966Z",
          "iopub.execute_input": "2023-11-21T18:46:48.266274Z",
          "iopub.status.idle": "2023-11-21T18:46:48.278199Z",
          "shell.execute_reply.started": "2023-11-21T18:46:48.266247Z",
          "shell.execute_reply": "2023-11-21T18:46:48.277252Z"
        },
        "trusted": true
      },
      "execution_count": null,
      "outputs": []
    },
    {
      "cell_type": "code",
      "source": [
        "# Validate the model\n",
        "validate_model()\n"
      ],
      "metadata": {
        "id": "VjMGw2H92RDD",
        "execution": {
          "iopub.status.busy": "2023-11-21T18:46:48.279534Z",
          "iopub.execute_input": "2023-11-21T18:46:48.279999Z",
          "iopub.status.idle": "2023-11-21T18:48:19.195329Z",
          "shell.execute_reply.started": "2023-11-21T18:46:48.279968Z",
          "shell.execute_reply": "2023-11-21T18:48:19.194476Z"
        },
        "trusted": true,
        "outputId": "e9062b99-a884-419f-c725-c0686d415893"
      },
      "execution_count": null,
      "outputs": [
        {
          "name": "stdout",
          "text": "Hamming Loss: 0.0682\nExact Match Ratio: 0.7258\nClass: anger\nAccuracy: 0.9339\nPrecision: 0.8052\nRecall: 0.6681\nF1-Score: 0.7303\nClass: fear\nAccuracy: 0.9180\nPrecision: 0.8784\nRecall: 0.8267\nF1-Score: 0.8518\nClass: sadness\nAccuracy: 0.9180\nPrecision: 0.9247\nRecall: 0.8661\nF1-Score: 0.8944\nClass: calmness\nAccuracy: 0.9359\nPrecision: 0.9304\nRecall: 0.8577\nF1-Score: 0.8925\nClass: disgust\nAccuracy: 0.9394\nPrecision: 0.9181\nRecall: 0.7825\nF1-Score: 0.8449\nClass: pleasantness\nAccuracy: 0.9463\nPrecision: 0.8545\nRecall: 0.6168\nF1-Score: 0.7165\nClass: eagerness\nAccuracy: 0.9221\nPrecision: 0.9033\nRecall: 0.8163\nF1-Score: 0.8576\nClass: joy\nAccuracy: 0.9408\nPrecision: 0.9253\nRecall: 0.9260\nF1-Score: 0.9256\n",
          "output_type": "stream"
        },
        {
          "execution_count": 9,
          "output_type": "execute_result",
          "data": {
            "text/plain": "0.1860846448582404"
          },
          "metadata": {}
        }
      ]
    },
    {
      "cell_type": "code",
      "source": [
        "# Save the trained model\n",
        "model.save_pretrained('LongFormer_trained_model')"
      ],
      "metadata": {
        "id": "dMk1CxH98Gor",
        "execution": {
          "iopub.status.busy": "2023-11-21T18:54:26.309572Z",
          "iopub.execute_input": "2023-11-21T18:54:26.309980Z",
          "iopub.status.idle": "2023-11-21T18:54:27.831560Z",
          "shell.execute_reply.started": "2023-11-21T18:54:26.309949Z",
          "shell.execute_reply": "2023-11-21T18:54:27.830781Z"
        },
        "trusted": true
      },
      "execution_count": null,
      "outputs": []
    },
    {
      "cell_type": "code",
      "source": [],
      "metadata": {
        "id": "I5ciRCpzRNd-"
      },
      "execution_count": null,
      "outputs": []
    }
  ]
}
