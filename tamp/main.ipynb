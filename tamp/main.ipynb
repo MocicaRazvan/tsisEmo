{
 "cells": [
  {
   "cell_type": "code",
   "execution_count": 1,
   "metadata": {},
   "outputs": [],
   "source": [
    "import pandas as pd\n",
    "import numpy as np\n",
    "from sklearn.preprocessing import LabelEncoder\n",
    "from nltk.stem import PorterStemmer\n",
    "from nltk.corpus import stopwords\n",
    "import re\n",
    "from collections import Counter\n",
    "from keras.preprocessing.text import one_hot\n",
    "from keras_preprocessing.sequence import pad_sequences\n",
    "from keras.utils import to_categorical\n",
    "import tensorflow as tf\n",
    "from keras.preprocessing.text import Tokenizer\n",
    "import os"
   ]
  },
  {
   "cell_type": "code",
   "execution_count": 2,
   "metadata": {},
   "outputs": [],
   "source": [
    "train_path = os.path.join(os.getcwd(), 'data', 'train.txt')\n",
    "test_path = os.path.join(os.getcwd(), 'data', 'test.txt')\n",
    "val_path = os.path.join(os.getcwd(), 'data', 'val.txt')"
   ]
  },
  {
   "cell_type": "code",
   "execution_count": 3,
   "metadata": {},
   "outputs": [],
   "source": [
    "train_data = pd.read_csv(os.path.join(os.curdir, 'data', 'train.txt'), header=None, sep=';', names=[\n",
    "                         'text', 'emotion'], encoding='utf-8')\n",
    "test_data = pd.read_csv(os.path.join(os.curdir, 'data', 'test.txt'), header=None, sep=';', names=[\n",
    "                        'text', 'emotion'], encoding='utf-8')\n",
    "val_data = pd.read_csv(os.path.join(os.curdir, 'data', 'val.txt'), header=None, sep=';', names=[\n",
    "                       'text', 'emotion'], encoding='utf-8')"
   ]
  },
  {
   "cell_type": "code",
   "execution_count": 4,
   "metadata": {},
   "outputs": [
    {
     "data": {
      "text/html": [
       "<div>\n",
       "<style scoped>\n",
       "    .dataframe tbody tr th:only-of-type {\n",
       "        vertical-align: middle;\n",
       "    }\n",
       "\n",
       "    .dataframe tbody tr th {\n",
       "        vertical-align: top;\n",
       "    }\n",
       "\n",
       "    .dataframe thead th {\n",
       "        text-align: right;\n",
       "    }\n",
       "</style>\n",
       "<table border=\"1\" class=\"dataframe\">\n",
       "  <thead>\n",
       "    <tr style=\"text-align: right;\">\n",
       "      <th></th>\n",
       "      <th>text</th>\n",
       "      <th>emotion</th>\n",
       "    </tr>\n",
       "  </thead>\n",
       "  <tbody>\n",
       "    <tr>\n",
       "      <th>0</th>\n",
       "      <td>i didnt feel terrified</td>\n",
       "      <td>fear</td>\n",
       "    </tr>\n",
       "    <tr>\n",
       "      <th>1</th>\n",
       "      <td>i even feel it is a game that i am a part of s...</td>\n",
       "      <td>surprise</td>\n",
       "    </tr>\n",
       "    <tr>\n",
       "      <th>2</th>\n",
       "      <td>i was starting to feel a little stressed</td>\n",
       "      <td>sadness</td>\n",
       "    </tr>\n",
       "    <tr>\n",
       "      <th>3</th>\n",
       "      <td>i feel so glad</td>\n",
       "      <td>joy</td>\n",
       "    </tr>\n",
       "    <tr>\n",
       "      <th>4</th>\n",
       "      <td>i just feel so inadequate today</td>\n",
       "      <td>sadness</td>\n",
       "    </tr>\n",
       "  </tbody>\n",
       "</table>\n",
       "</div>"
      ],
      "text/plain": [
       "                                                text   emotion\n",
       "0                             i didnt feel terrified      fear\n",
       "1  i even feel it is a game that i am a part of s...  surprise\n",
       "2           i was starting to feel a little stressed   sadness\n",
       "3                                     i feel so glad       joy\n",
       "4                    i just feel so inadequate today   sadness"
      ]
     },
     "execution_count": 4,
     "metadata": {},
     "output_type": "execute_result"
    }
   ],
   "source": [
    "train_data.head()"
   ]
  },
  {
   "cell_type": "code",
   "execution_count": 5,
   "metadata": {},
   "outputs": [
    {
     "data": {
      "text/plain": [
       "emotion\n",
       "joy         53911\n",
       "sadness     46358\n",
       "anger       21294\n",
       "fear        19377\n",
       "love        13040\n",
       "surprise     5710\n",
       "Name: count, dtype: int64"
      ]
     },
     "execution_count": 5,
     "metadata": {},
     "output_type": "execute_result"
    }
   ],
   "source": [
    "train_data['emotion'].value_counts()"
   ]
  },
  {
   "cell_type": "code",
   "execution_count": 6,
   "metadata": {},
   "outputs": [
    {
     "data": {
      "text/plain": [
       "143721"
      ]
     },
     "execution_count": 6,
     "metadata": {},
     "output_type": "execute_result"
    }
   ],
   "source": [
    "train_data.duplicated().sum()"
   ]
  },
  {
   "cell_type": "code",
   "execution_count": 8,
   "metadata": {},
   "outputs": [],
   "source": [
    "class EmotionData:\n",
    "    def __init__(self, train_data_path, test_data_path, val_data_path, vocb_coverage=0.9, max_len_qnt=1, max_len_buffer=25):\n",
    "        self.train_data = self._load_data(train_data_path)\n",
    "        self.test_data = self._load_data(test_data_path)\n",
    "        self.val_data = self._load_data(val_data_path)\n",
    "        self.label_encoder = LabelEncoder().fit(self.train_data['emotion'])\n",
    "        self.stemmer = PorterStemmer()\n",
    "        self.stop_words = set(stopwords.words('english'))\n",
    "        self.vocab_size = self._calculate_vocab_size(vocb_coverage)\n",
    "        self.max_length = self._calculate_max_length(\n",
    "            max_len_qnt, max_len_buffer)\n",
    "        self.nr_classes = len(self.train_data['emotion'].unique())\n",
    "        self.tokenizer = Tokenizer(num_words=self.vocab_size, oov_token=\"<OOV>\",\n",
    "                                   lower=True, filters='!\"#$%&()*+,-./:;<=>?@[\\\\]^_`{|}~\\t\\n')\n",
    "        self.tokenizer.fit_on_texts(\n",
    "            self.train_data['text'].apply(self._preprocess_text))\n",
    "\n",
    "    def _calculate_vocab_size(self, vocb_coverage):\n",
    "        words = ''.join(self.train_data['text'].apply(\n",
    "            lambda x: re.sub(\"[^a-zA-Z0-9]\", \" \", x).lower())).split()\n",
    "        word_freq = Counter(words)\n",
    "\n",
    "        total_words = sum(word_freq.values())\n",
    "        cum_coverage = 0\n",
    "        vocab_size = 0\n",
    "\n",
    "        for _, cnt in word_freq.most_common():\n",
    "            cum_coverage += cnt / total_words\n",
    "            vocab_size += 1\n",
    "            if cum_coverage >= vocb_coverage:\n",
    "                break\n",
    "\n",
    "        return vocab_size\n",
    "\n",
    "    def _calculate_max_length(self, max_len_qnt, max_len_buffer):\n",
    "        return int(self.train_data['length'].quantile(max_len_qnt)) + max_len_buffer\n",
    "\n",
    "    def _load_data(self, path):\n",
    "        data = pd.read_csv(path, header=None, sep=';', names=[\n",
    "                           'text', 'emotion'], encoding='utf-8')\n",
    "        data.drop_duplicates(subset=['text', 'emotion'], inplace=True)\n",
    "        data.dropna(inplace=True)\n",
    "        data['length'] = data['text'].apply(lambda x: len(x.split()))\n",
    "        return data\n",
    "\n",
    "    def _preprocess_text(self, text):\n",
    "        words = re.sub(\"[^a-zA-Z0-9]\", \" \", text).lower().split()\n",
    "        words = [self.stemmer.stem(word)\n",
    "                 for word in words if word not in self.stop_words]\n",
    "        return ' '.join(words)\n",
    "\n",
    "    def _process_input(self, input: str):\n",
    "        preprocessed_text = self._preprocess_text(input)\n",
    "        sequences = self.tokenizer.texts_to_sequences([preprocessed_text])\n",
    "        padded_sequence = pad_sequences(\n",
    "            sequences, maxlen=self.max_length, padding='pre')\n",
    "\n",
    "        return padded_sequence[0]\n",
    "\n",
    "    def clean_single_text(self, text: str):\n",
    "        return self._process_input(text).reshape(1, -1)\n",
    "\n",
    "    def clean_text(self, df: pd.DataFrame, text_col: str):\n",
    "        return np.array([self._process_input(text) for text in df[text_col]])\n",
    "\n",
    "    def get_labels(self, df: pd.DataFrame, label_col: str):\n",
    "        return to_categorical(self.label_encoder.transform(df[label_col]))\n",
    "\n",
    "    def predict_emotion(self, model, text: str):\n",
    "        result = {}\n",
    "        sentence = self.clean_single_text(text)\n",
    "        prediction = model.predict(sentence)\n",
    "        for i in range(len(prediction[0])):\n",
    "            result[self.label_encoder.inverse_transform(\n",
    "                [i])[0]] = prediction[0][i]\n",
    "        return result"
   ]
  },
  {
   "cell_type": "code",
   "execution_count": 10,
   "metadata": {},
   "outputs": [
    {
     "name": "stdout",
     "output_type": "stream",
     "text": [
      "2853\n"
     ]
    },
    {
     "data": {
      "text/plain": [
       "array([[   0,    0,    0, ...,   58,    2,  329],\n",
       "       [   0,    0,    0, ...,    1,  122,    8],\n",
       "       [   0,    0,    0, ...,    2,   13,  113],\n",
       "       ...,\n",
       "       [   0,    0,    0, ...,  447,  447,  561],\n",
       "       [   0,    0,    0, ...,    2,   55,  169],\n",
       "       [   0,    0,    0, ...,   15, 1358, 1263]])"
      ]
     },
     "execution_count": 10,
     "metadata": {},
     "output_type": "execute_result"
    }
   ],
   "source": [
    "emotion_data = EmotionData(train_path, test_path, val_path)\n",
    "all_text = emotion_data.train_data['text'].astype(str)\n",
    "words = ''.join(emotion_data.train_data['text'].apply(\n",
    "    lambda x: re.sub(\"[^a-zA-Z0-9]\", \" \", x).lower())).split()\n",
    "words = [w for w in words if w not in emotion_data.stop_words]\n",
    "word_freq = Counter(words)\n",
    "word_freq.items()\n",
    "print(emotion_data.vocab_size)\n",
    "emotion_data.clean_text(emotion_data.train_data, 'text')"
   ]
  },
  {
   "cell_type": "code",
   "execution_count": 27,
   "metadata": {},
   "outputs": [],
   "source": [
    "emotion_data = EmotionData(train_path, test_path, val_path)\n",
    "EPOCHS = 50\n",
    "BATCH_SIZE = 32\n",
    "\n",
    "METRICS = [\n",
    "    tf.keras.metrics.CategoricalAccuracy(name='accuracy'),\n",
    "    tf.keras.metrics.Precision(name='precision'),\n",
    "    tf.keras.metrics.Recall(name='recall'),\n",
    "    tf.keras.metrics.AUC(name='auc'),\n",
    "]\n",
    "\n",
    "callbacks = [\n",
    "    tf.keras.callbacks.EarlyStopping(\n",
    "        monitor='val_loss', patience=10, mode='auto', restore_best_weights=True),\n",
    "    tf.keras.callbacks.ModelCheckpoint(\n",
    "        filepath=os.path.join(os.curdir, 'models', 'tamp.h5'), monitor='val_loss', save_best_only=True),\n",
    "    tf.keras.callbacks.ReduceLROnPlateau(\n",
    "        monitor='val_loss', factor=0.25, patience=3, mode='auto', min_lr=1e-5)\n",
    "]\n",
    "model = tf.keras.Sequential([\n",
    "    tf.keras.layers.Input(shape=(emotion_data.max_length,)),\n",
    "    tf.keras.layers.Embedding(input_dim=emotion_data.vocab_size,\n",
    "                              output_dim=150, input_length=emotion_data.max_length),\n",
    "    tf.keras.layers.Bidirectional(\n",
    "        tf.keras.layers.LSTM(128, return_sequences=True, dropout=0.1)),\n",
    "    tf.keras.layers.LayerNormalization(),\n",
    "    tf.keras.layers.Dropout(0.1),\n",
    "    tf.keras.layers.Bidirectional(\n",
    "        tf.keras.layers.GRU(128, return_sequences=True, dropout=0.1, kernel_regularizer=tf.keras.regularizers.l2(1e-6))),\n",
    "    tf.keras.layers.LayerNormalization(),\n",
    "    tf.keras.layers.Dropout(0.1),\n",
    "    tf.keras.layers.Bidirectional(\n",
    "        tf.keras.layers.LSTM(64, return_sequences=True, dropout=0.1)),\n",
    "    tf.keras.layers.LayerNormalization(),\n",
    "    tf.keras.layers.GRU(32),\n",
    "    tf.keras.layers.Dense(emotion_data.nr_classes, activation='softmax')\n",
    "])\n",
    "\n",
    "tf.random.set_seed(42)\n",
    "\n",
    "model.compile(optimizer=tf.keras.optimizers.Adam(learning_rate=0.001),\n",
    "              loss=tf.keras.losses.CategoricalCrossentropy(),\n",
    "              metrics=METRICS)"
   ]
  },
  {
   "cell_type": "code",
   "execution_count": 19,
   "metadata": {},
   "outputs": [],
   "source": [
    "X_train, Y_train = emotion_data.clean_text(\n",
    "    emotion_data.train_data, 'text'), emotion_data.get_labels(emotion_data.train_data, 'emotion')"
   ]
  },
  {
   "cell_type": "code",
   "execution_count": 21,
   "metadata": {},
   "outputs": [
    {
     "data": {
      "text/plain": [
       "((15969, 91), (15969, 6))"
      ]
     },
     "execution_count": 21,
     "metadata": {},
     "output_type": "execute_result"
    }
   ],
   "source": [
    "X_train.shape, Y_train.shape"
   ]
  },
  {
   "cell_type": "code",
   "execution_count": 22,
   "metadata": {},
   "outputs": [],
   "source": [
    "X_val, Y_val = emotion_data.clean_text(\n",
    "    emotion_data.val_data, 'text'), emotion_data.get_labels(emotion_data.val_data, 'emotion')"
   ]
  },
  {
   "cell_type": "code",
   "execution_count": 23,
   "metadata": {},
   "outputs": [
    {
     "data": {
      "text/plain": [
       "((2000, 91), (2000, 6))"
      ]
     },
     "execution_count": 23,
     "metadata": {},
     "output_type": "execute_result"
    }
   ],
   "source": [
    "X_val.shape, Y_val.shape"
   ]
  },
  {
   "cell_type": "code",
   "execution_count": 24,
   "metadata": {},
   "outputs": [
    {
     "data": {
      "text/plain": [
       "6"
      ]
     },
     "execution_count": 24,
     "metadata": {},
     "output_type": "execute_result"
    }
   ],
   "source": [
    "emotion_data.nr_classes"
   ]
  },
  {
   "cell_type": "code",
   "execution_count": 28,
   "metadata": {},
   "outputs": [
    {
     "name": "stdout",
     "output_type": "stream",
     "text": [
      "Epoch 1/50\n",
      "500/500 [==============================] - 48s 77ms/step - loss: 0.9232 - accuracy: 0.6510 - precision: 0.8446 - recall: 0.5067 - auc: 0.9130 - val_loss: 0.3449 - val_accuracy: 0.8800 - val_precision: 0.8957 - val_recall: 0.8635 - val_auc: 0.9880 - lr: 0.0010\n",
      "Epoch 2/50\n",
      "500/500 [==============================] - 36s 71ms/step - loss: 0.2198 - accuracy: 0.9156 - precision: 0.9259 - recall: 0.9071 - auc: 0.9943 - val_loss: 0.2267 - val_accuracy: 0.9045 - val_precision: 0.9122 - val_recall: 0.8990 - val_auc: 0.9930 - lr: 0.0010\n",
      "Epoch 3/50\n",
      "500/500 [==============================] - 35s 70ms/step - loss: 0.1502 - accuracy: 0.9406 - precision: 0.9451 - recall: 0.9363 - auc: 0.9972 - val_loss: 0.2260 - val_accuracy: 0.9160 - val_precision: 0.9209 - val_recall: 0.9075 - val_auc: 0.9925 - lr: 0.0010\n",
      "Epoch 4/50\n",
      "500/500 [==============================] - 36s 72ms/step - loss: 0.1159 - accuracy: 0.9529 - precision: 0.9568 - recall: 0.9497 - auc: 0.9983 - val_loss: 0.2613 - val_accuracy: 0.9025 - val_precision: 0.9060 - val_recall: 0.9015 - val_auc: 0.9915 - lr: 0.0010\n",
      "Epoch 5/50\n",
      "500/500 [==============================] - 36s 71ms/step - loss: 0.1086 - accuracy: 0.9572 - precision: 0.9598 - recall: 0.9549 - auc: 0.9983 - val_loss: 0.2636 - val_accuracy: 0.9025 - val_precision: 0.9067 - val_recall: 0.8985 - val_auc: 0.9921 - lr: 0.0010\n",
      "Epoch 6/50\n",
      "500/500 [==============================] - 36s 72ms/step - loss: 0.0894 - accuracy: 0.9648 - precision: 0.9666 - recall: 0.9633 - auc: 0.9989 - val_loss: 0.3032 - val_accuracy: 0.8950 - val_precision: 0.9003 - val_recall: 0.8935 - val_auc: 0.9901 - lr: 0.0010\n",
      "Epoch 7/50\n",
      "500/500 [==============================] - 36s 72ms/step - loss: 0.0526 - accuracy: 0.9793 - precision: 0.9804 - recall: 0.9786 - auc: 0.9996 - val_loss: 0.2798 - val_accuracy: 0.9080 - val_precision: 0.9107 - val_recall: 0.9075 - val_auc: 0.9891 - lr: 2.5000e-04\n",
      "Epoch 8/50\n",
      "500/500 [==============================] - 37s 74ms/step - loss: 0.0343 - accuracy: 0.9867 - precision: 0.9873 - recall: 0.9864 - auc: 0.9998 - val_loss: 0.3153 - val_accuracy: 0.9160 - val_precision: 0.9191 - val_recall: 0.9145 - val_auc: 0.9846 - lr: 2.5000e-04\n",
      "Epoch 9/50\n",
      "500/500 [==============================] - 35s 70ms/step - loss: 0.0274 - accuracy: 0.9904 - precision: 0.9906 - recall: 0.9899 - auc: 0.9998 - val_loss: 0.3195 - val_accuracy: 0.9085 - val_precision: 0.9098 - val_recall: 0.9075 - val_auc: 0.9852 - lr: 2.5000e-04\n",
      "Epoch 10/50\n",
      "500/500 [==============================] - 35s 70ms/step - loss: 0.0211 - accuracy: 0.9923 - precision: 0.9925 - recall: 0.9920 - auc: 0.9999 - val_loss: 0.3282 - val_accuracy: 0.9125 - val_precision: 0.9151 - val_recall: 0.9110 - val_auc: 0.9845 - lr: 6.2500e-05\n",
      "Epoch 11/50\n",
      "500/500 [==============================] - 34s 68ms/step - loss: 0.0183 - accuracy: 0.9936 - precision: 0.9937 - recall: 0.9933 - auc: 0.9999 - val_loss: 0.3440 - val_accuracy: 0.9135 - val_precision: 0.9152 - val_recall: 0.9120 - val_auc: 0.9830 - lr: 6.2500e-05\n",
      "Epoch 12/50\n",
      "500/500 [==============================] - 37s 73ms/step - loss: 0.0172 - accuracy: 0.9946 - precision: 0.9949 - recall: 0.9944 - auc: 0.9999 - val_loss: 0.3529 - val_accuracy: 0.9115 - val_precision: 0.9132 - val_recall: 0.9105 - val_auc: 0.9818 - lr: 6.2500e-05\n",
      "Epoch 13/50\n",
      "500/500 [==============================] - 35s 69ms/step - loss: 0.0151 - accuracy: 0.9957 - precision: 0.9959 - recall: 0.9955 - auc: 0.9999 - val_loss: 0.3547 - val_accuracy: 0.9115 - val_precision: 0.9146 - val_recall: 0.9105 - val_auc: 0.9810 - lr: 1.5625e-05\n"
     ]
    }
   ],
   "source": [
    "history = model.fit(X_train, Y_train, epochs=EPOCHS, batch_size=BATCH_SIZE,\n",
    "                    callbacks=callbacks, validation_data=(X_val, Y_val))"
   ]
  },
  {
   "cell_type": "code",
   "execution_count": 29,
   "metadata": {},
   "outputs": [
    {
     "name": "stdout",
     "output_type": "stream",
     "text": [
      "Model: \"sequential_1\"\n",
      "_________________________________________________________________\n",
      " Layer (type)                Output Shape              Param #   \n",
      "=================================================================\n",
      " embedding_1 (Embedding)     (None, 91, 150)           427950    \n",
      "                                                                 \n",
      " bidirectional_3 (Bidirectio  (None, 91, 256)          285696    \n",
      " nal)                                                            \n",
      "                                                                 \n",
      " layer_normalization_3 (Laye  (None, 91, 256)          512       \n",
      " rNormalization)                                                 \n",
      "                                                                 \n",
      " dropout_2 (Dropout)         (None, 91, 256)           0         \n",
      "                                                                 \n",
      " bidirectional_4 (Bidirectio  (None, 91, 256)          296448    \n",
      " nal)                                                            \n",
      "                                                                 \n",
      " layer_normalization_4 (Laye  (None, 91, 256)          512       \n",
      " rNormalization)                                                 \n",
      "                                                                 \n",
      " dropout_3 (Dropout)         (None, 91, 256)           0         \n",
      "                                                                 \n",
      " bidirectional_5 (Bidirectio  (None, 91, 128)          164352    \n",
      " nal)                                                            \n",
      "                                                                 \n",
      " layer_normalization_5 (Laye  (None, 91, 128)          256       \n",
      " rNormalization)                                                 \n",
      "                                                                 \n",
      " gru_3 (GRU)                 (None, 32)                15552     \n",
      "                                                                 \n",
      " dense_1 (Dense)             (None, 6)                 198       \n",
      "                                                                 \n",
      "=================================================================\n",
      "Total params: 1,191,476\n",
      "Trainable params: 1,191,476\n",
      "Non-trainable params: 0\n",
      "_________________________________________________________________\n"
     ]
    }
   ],
   "source": [
    "from keras.models import load_model\n",
    "loaded_model = load_model(os.path.join(os.curdir, 'models', 'tamp.h5'))\n",
    "loaded_model.summary()"
   ]
  },
  {
   "cell_type": "code",
   "execution_count": 30,
   "metadata": {},
   "outputs": [
    {
     "name": "stdout",
     "output_type": "stream",
     "text": [
      "1/1 [==============================] - 2s 2s/step\n",
      "1/1 [==============================] - 0s 31ms/step\n",
      "joy with probability of 0.8961552977561951\n"
     ]
    }
   ],
   "source": [
    "sentence = emotion_data.clean_single_text('happy and joyful')\n",
    "result = emotion_data.label_encoder.inverse_transform(\n",
    "    np.argmax(model.predict(sentence), axis=1))[0]\n",
    "prob = np.max(model.predict(sentence))\n",
    "print(f\"{result} with probability of {prob}\")"
   ]
  },
  {
   "cell_type": "code",
   "execution_count": 31,
   "metadata": {},
   "outputs": [],
   "source": [
    "import matplotlib.pyplot as plt\n",
    "import json\n",
    "\n",
    "\n",
    "class CustomHistory:\n",
    "\n",
    "    colors = plt.rcParams['axes.prop_cycle'].by_key()['color']  # culori\n",
    "\n",
    "    def __init__(self, history):\n",
    "        self.history = history.history\n",
    "        self.epoch = history.epoch\n",
    "        self.params = history.params\n",
    "\n",
    "    def save(self, path):\n",
    "        \"\"\"\n",
    "        Salveaza istoria modelului in fisiere json\n",
    "        :param path: Calea de baza pentru salvarea fisierelor\n",
    "        :return: void\n",
    "        \"\"\"\n",
    "        history_to_save = {}\n",
    "        for key, values in self.history.items():\n",
    "            history_to_save[key] = [float(value) for value in values]\n",
    "        with open(f\"{path}_history.json\", 'w') as file:\n",
    "            json.dump(history_to_save, file)\n",
    "        with open(f\"{path}_epoch.json\", 'w') as file:\n",
    "            json.dump(self.epoch, file)\n",
    "        with open(f\"{path}_params.json\", 'w') as file:\n",
    "            json.dump(self.params, file)\n",
    "\n",
    "    @staticmethod\n",
    "    def load(path):\n",
    "        \"\"\"\n",
    "        Incarca istoria modelului din fisiere json\n",
    "        :param path: Cala de baza pentru incarcarea fisierelor\n",
    "        :return: CustomHistory cu istoria modelului\n",
    "        \"\"\"\n",
    "        with open(f\"{path}_history.json\", 'r') as file:\n",
    "            history = json.load(file)\n",
    "        with open(f\"{path}_epoch.json\", 'r') as file:\n",
    "            epoch = json.load(file)\n",
    "        with open(f\"{path}_params.json\", 'r') as file:\n",
    "            params = json.load(file)\n",
    "        # Creating a dummy class to mimic what might be expected by CustomHistory constructor\n",
    "        dummy_history = type('DummyHistory', (), {\n",
    "                             'history': history, 'epoch': epoch, 'params': params})()\n",
    "        return CustomHistory(dummy_history)\n",
    "\n",
    "    def plot_loss(self,  n: int = 0):\n",
    "        \"\"\"\n",
    "        Functie pentru a plota lossul modelului\n",
    "        :param n: Indicele culorii\n",
    "        :return: void\n",
    "        \"\"\"\n",
    "        plt.figure(figsize=(15, 10))\n",
    "        plt.semilogy(self.epoch, self.history['loss'],\n",
    "                     color=CustomHistory.colors[n], label='Train Loss')\n",
    "        plt.semilogy(self.epoch, self.history['val_loss'],\n",
    "                     color=CustomHistory.colors[n], label='Val Loss',\n",
    "                     linestyle=\"--\")\n",
    "        plt.xlabel('Epoch')\n",
    "        plt.ylabel('Loss')\n",
    "        plt.legend()\n",
    "\n",
    "    def plot_metrics(self, metrics=[], figsize=(20, 15)):\n",
    "        \"\"\"\n",
    "        Functie pentru a plota metricile modelului\n",
    "        :param metrics: Lista cu numele metricilor\n",
    "        :param figsize: Dimensiunea figurii din matplotlib\n",
    "        :return: void\n",
    "        \"\"\"\n",
    "        plt.figure(figsize=figsize)\n",
    "        for n, metric in enumerate(metrics):\n",
    "            name = metric.replace(\"_\", \" \").capitalize()\n",
    "            plt.subplot(len(metrics), 2, n+1)\n",
    "            plt.plot(self.epoch,\n",
    "                     self.history[metric], color=CustomHistory.colors[0], label='Train')\n",
    "            plt.plot(self.epoch, self.history['val_'+metric],\n",
    "                     color=CustomHistory.colors[1], linestyle=\"--\", label='Val')\n",
    "            plt.xlabel('Epoch')\n",
    "            plt.ylabel(name)\n",
    "            if metric == 'loss':\n",
    "                plt.ylim([0, plt.ylim()[1]])\n",
    "            elif metric == 'auc':\n",
    "                plt.ylim([0.8, 1])\n",
    "            else:\n",
    "                plt.ylim([0, 1])\n",
    "            plt.legend()"
   ]
  },
  {
   "cell_type": "code",
   "execution_count": 36,
   "metadata": {},
   "outputs": [],
   "source": [
    "CustomHistory(history).save(os.path.join(os.curdir, \"history\", \"history\"))\n",
    "loaded_history = CustomHistory.load(\n",
    "    os.path.join(os.curdir, \"history\", \"history\"))"
   ]
  },
  {
   "cell_type": "code",
   "execution_count": 37,
   "metadata": {},
   "outputs": [
    {
     "data": {
      "image/png": "[encoded data removed]",
      "text/plain": [
       "<Figure size 2000x1500 with 4 Axes>"
      ]
     },
     "metadata": {},
     "output_type": "display_data"
    }
   ],
   "source": [
    "loaded_history.plot_metrics([m.name for m in METRICS])"
   ]
  },
  {
   "cell_type": "code",
   "execution_count": 38,
   "metadata": {},
   "outputs": [
    {
     "data": {
      "image/png": "[encoded data removed]",
      "text/plain": [
       "<Figure size 1500x1000 with 1 Axes>"
      ]
     },
     "metadata": {},
     "output_type": "display_data"
    }
   ],
   "source": [
    "loaded_history.plot_loss()"
   ]
  },
  {
   "cell_type": "code",
   "execution_count": 39,
   "metadata": {},
   "outputs": [],
   "source": [
    "def get_metrics(model, X_test, Y_test):\n",
    "    \"\"\"\n",
    "    Functie pentru a obtine metricile modelului\n",
    "    :param model:  Modelul antrenat din tensorflow\n",
    "    :return: void\n",
    "    \"\"\"\n",
    "    metrics_names = [\"loss\"]+[m.name for m in METRICS]\n",
    "    results = model.evaluate(X_test, Y_test,\n",
    "                             batch_size=BATCH_SIZE, verbose=0)\n",
    "    for name, value in zip(metrics_names, results):\n",
    "        print(name, ': ', value)"
   ]
  },
  {
   "cell_type": "code",
   "execution_count": 40,
   "metadata": {},
   "outputs": [],
   "source": [
    "X_test, Y_test = emotion_data.clean_text(\n",
    "    emotion_data.test_data, 'text'), emotion_data.get_labels(emotion_data.test_data, 'emotion')"
   ]
  },
  {
   "cell_type": "code",
   "execution_count": 41,
   "metadata": {},
   "outputs": [
    {
     "name": "stdout",
     "output_type": "stream",
     "text": [
      "loss :  0.2441266030073166\n",
      "accuracy :  0.9070000052452087\n",
      "precision :  0.9117498993873596\n",
      "recall :  0.9039999842643738\n",
      "auc :  0.9928426146507263\n"
     ]
    }
   ],
   "source": [
    "get_metrics(model, X_test, Y_test)"
   ]
  },
  {
   "cell_type": "code",
   "execution_count": null,
   "metadata": {},
   "outputs": [],
   "source": [
    "import joblib\n",
    "joblib.dump(emotion_data.label_encoder, os.path.join(\n",
    "    os.curdir, 'models', 'label_encoder.pkl'))\n",
    "loaded_le = joblib.load(os.path.join(os.curdir, 'models', 'label_encoder.pkl'))"
   ]
  },
  {
   "cell_type": "code",
   "execution_count": 43,
   "metadata": {},
   "outputs": [
    {
     "name": "stdout",
     "output_type": "stream",
     "text": [
      "1/1 [==============================] - 2s 2s/step\n"
     ]
    },
    {
     "data": {
      "text/plain": [
       "{'anger': 0.1931343,\n",
       " 'fear': 0.04520174,\n",
       " 'joy': 0.72202146,\n",
       " 'love': 0.0017103453,\n",
       " 'sadness': 0.036638454,\n",
       " 'surprise': 0.0012937004}"
      ]
     },
     "execution_count": 43,
     "metadata": {},
     "output_type": "execute_result"
    }
   ],
   "source": [
    "emotion_data.predict_emotion(\n",
    "    loaded_model, \"The staff: made my stay in hospital much more bearable, cheering me up when i was having a bad day! I would like to say a massive thank you to everyone in Ward 4a,\")"
   ]
  },
  {
   "cell_type": "code",
   "execution_count": 45,
   "metadata": {},
   "outputs": [
    {
     "data": {
      "text/html": [
       "<div>\n",
       "<style scoped>\n",
       "    .dataframe tbody tr th:only-of-type {\n",
       "        vertical-align: middle;\n",
       "    }\n",
       "\n",
       "    .dataframe tbody tr th {\n",
       "        vertical-align: top;\n",
       "    }\n",
       "\n",
       "    .dataframe thead th {\n",
       "        text-align: right;\n",
       "    }\n",
       "</style>\n",
       "<table border=\"1\" class=\"dataframe\">\n",
       "  <thead>\n",
       "    <tr style=\"text-align: right;\">\n",
       "      <th></th>\n",
       "      <th>text</th>\n",
       "      <th>emotion</th>\n",
       "    </tr>\n",
       "  </thead>\n",
       "  <tbody>\n",
       "    <tr>\n",
       "      <th>0</th>\n",
       "      <td>The entire experience left me feeling down and...</td>\n",
       "      <td>sadness</td>\n",
       "    </tr>\n",
       "    <tr>\n",
       "      <th>1</th>\n",
       "      <td>The staff were so rude during our stay. We fel...</td>\n",
       "      <td>anger</td>\n",
       "    </tr>\n",
       "    <tr>\n",
       "      <th>2</th>\n",
       "      <td>The staff were so rude during our stay. We fel...</td>\n",
       "      <td>anger</td>\n",
       "    </tr>\n",
       "    <tr>\n",
       "      <th>3</th>\n",
       "      <td>Everything was explained clearly, which gave m...</td>\n",
       "      <td>calmness</td>\n",
       "    </tr>\n",
       "    <tr>\n",
       "      <th>4</th>\n",
       "      <td>Everything was handled with such care; I felt ...</td>\n",
       "      <td>pleasantness</td>\n",
       "    </tr>\n",
       "    <tr>\n",
       "      <th>...</th>\n",
       "      <td>...</td>\n",
       "      <td>...</td>\n",
       "    </tr>\n",
       "    <tr>\n",
       "      <th>1995</th>\n",
       "      <td>The staff were kind and always willing to help...</td>\n",
       "      <td>pleasantness</td>\n",
       "    </tr>\n",
       "    <tr>\n",
       "      <th>1996</th>\n",
       "      <td>Everything was handled with such care; I felt ...</td>\n",
       "      <td>pleasantness</td>\n",
       "    </tr>\n",
       "    <tr>\n",
       "      <th>1997</th>\n",
       "      <td>Everything was handled with such care; I felt ...</td>\n",
       "      <td>pleasantness</td>\n",
       "    </tr>\n",
       "    <tr>\n",
       "      <th>1998</th>\n",
       "      <td>I couldn’t be happier with the treatment and c...</td>\n",
       "      <td>joy</td>\n",
       "    </tr>\n",
       "    <tr>\n",
       "      <th>1999</th>\n",
       "      <td>Everything was explained clearly, which gave m...</td>\n",
       "      <td>calmness</td>\n",
       "    </tr>\n",
       "  </tbody>\n",
       "</table>\n",
       "<p>2000 rows × 2 columns</p>\n",
       "</div>"
      ],
      "text/plain": [
       "                                                   text       emotion\n",
       "0     The entire experience left me feeling down and...       sadness\n",
       "1     The staff were so rude during our stay. We fel...         anger\n",
       "2     The staff were so rude during our stay. We fel...         anger\n",
       "3     Everything was explained clearly, which gave m...      calmness\n",
       "4     Everything was handled with such care; I felt ...  pleasantness\n",
       "...                                                 ...           ...\n",
       "1995  The staff were kind and always willing to help...  pleasantness\n",
       "1996  Everything was handled with such care; I felt ...  pleasantness\n",
       "1997  Everything was handled with such care; I felt ...  pleasantness\n",
       "1998  I couldn’t be happier with the treatment and c...           joy\n",
       "1999  Everything was explained clearly, which gave m...      calmness\n",
       "\n",
       "[2000 rows x 2 columns]"
      ]
     },
     "execution_count": 45,
     "metadata": {},
     "output_type": "execute_result"
    }
   ],
   "source": [
    "medical_data = pd.read_csv(os.path.join(os.curdir, 'data', 'realistic_biomedical_clinical_emotion_dataset.csv'), sep=',', names=[\n",
    "                           'text', 'emotion'], encoding='utf-8')\n",
    "medical_data"
   ]
  },
  {
   "cell_type": "code",
   "execution_count": 46,
   "metadata": {},
   "outputs": [
    {
     "data": {
      "text/plain": [
       "emotion\n",
       "sadness         413\n",
       "pleasantness    396\n",
       "fear            288\n",
       "eagerness       205\n",
       "joy             201\n",
       "anger           197\n",
       "calmness        192\n",
       "disgust         108\n",
       "Name: count, dtype: int64"
      ]
     },
     "execution_count": 46,
     "metadata": {},
     "output_type": "execute_result"
    }
   ],
   "source": [
    "medical_data['emotion'].value_counts()"
   ]
  },
  {
   "cell_type": "code",
   "execution_count": null,
   "metadata": {},
   "outputs": [],
   "source": [
    "def clean_text(df: pd.DataFrame, column: str, vocab_size: int, max_length: int):\n",
    "    stemmer = PorterStemmer()\n",
    "    stop_words = set(stopwords.words('english'))\n",
    "    tokenizer = emotion_data.tokenizer\n",
    "    dex = []\n",
    "    for text in df[column]:\n",
    "        text = re.sub(\"[^a-zA-Z0-9]\", \" \", text).lower().split()\n",
    "        text = [stemmer.stem(word)\n",
    "                for word in text if word not in stop_words]\n",
    "        text = ' '.join(text)\n",
    "        dex.append(text)\n",
    "    sequences = tokenizer.texts_to_sequences(dex)\n",
    "    padded_sequence = pad_sequences(\n",
    "        sequences, maxlen=max_length, padding='pre')\n",
    "    return padded_sequence\n",
    "\n",
    "\n",
    "bio_label = LabelEncoder().fit(medical_data['emotion'])"
   ]
  },
  {
   "cell_type": "code",
   "execution_count": 54,
   "metadata": {},
   "outputs": [
    {
     "data": {
      "text/plain": [
       "(2853, 91)"
      ]
     },
     "execution_count": 54,
     "metadata": {},
     "output_type": "execute_result"
    }
   ],
   "source": [
    "emotion_data.vocab_size, emotion_data.max_length"
   ]
  },
  {
   "cell_type": "code",
   "execution_count": null,
   "metadata": {},
   "outputs": [],
   "source": [
    "X_bio_train, Y_bio_train = clean_text(\n",
    "    medical_data, 'text', emotion_data.vocab_size, emotion_data.max_length), to_categorical(bio_label.transform(medical_data['emotion']))"
   ]
  },
  {
   "cell_type": "code",
   "execution_count": 56,
   "metadata": {},
   "outputs": [
    {
     "data": {
      "text/plain": [
       "((2000, 91), (2000, 8))"
      ]
     },
     "execution_count": 56,
     "metadata": {},
     "output_type": "execute_result"
    }
   ],
   "source": [
    "X_bio_train.shape, Y_bio_train.shape"
   ]
  },
  {
   "cell_type": "code",
   "execution_count": 57,
   "metadata": {},
   "outputs": [
    {
     "name": "stdout",
     "output_type": "stream",
     "text": [
      "Model: \"sequential_1\"\n",
      "_________________________________________________________________\n",
      " Layer (type)                Output Shape              Param #   \n",
      "=================================================================\n",
      " embedding_1 (Embedding)     (None, 91, 150)           427950    \n",
      "                                                                 \n",
      " bidirectional_3 (Bidirectio  (None, 91, 256)          285696    \n",
      " nal)                                                            \n",
      "                                                                 \n",
      " layer_normalization_3 (Laye  (None, 91, 256)          512       \n",
      " rNormalization)                                                 \n",
      "                                                                 \n",
      " dropout_2 (Dropout)         (None, 91, 256)           0         \n",
      "                                                                 \n",
      " bidirectional_4 (Bidirectio  (None, 91, 256)          296448    \n",
      " nal)                                                            \n",
      "                                                                 \n",
      " layer_normalization_4 (Laye  (None, 91, 256)          512       \n",
      " rNormalization)                                                 \n",
      "                                                                 \n",
      " dropout_3 (Dropout)         (None, 91, 256)           0         \n",
      "                                                                 \n",
      " bidirectional_5 (Bidirectio  (None, 91, 128)          164352    \n",
      " nal)                                                            \n",
      "                                                                 \n",
      " layer_normalization_5 (Laye  (None, 91, 128)          256       \n",
      " rNormalization)                                                 \n",
      "                                                                 \n",
      " gru_3 (GRU)                 (None, 32)                15552     \n",
      "                                                                 \n",
      " dense_1 (Dense)             (None, 6)                 198       \n",
      "                                                                 \n",
      "=================================================================\n",
      "Total params: 1,191,476\n",
      "Trainable params: 1,191,476\n",
      "Non-trainable params: 0\n",
      "_________________________________________________________________\n"
     ]
    }
   ],
   "source": [
    "loaded_model.summary()"
   ]
  },
  {
   "cell_type": "code",
   "execution_count": 58,
   "metadata": {},
   "outputs": [
    {
     "data": {
      "text/plain": [
       "8"
      ]
     },
     "execution_count": 58,
     "metadata": {},
     "output_type": "execute_result"
    }
   ],
   "source": [
    "num_classes = len(medical_data['emotion'].unique())\n",
    "num_classes"
   ]
  },
  {
   "cell_type": "code",
   "execution_count": 60,
   "metadata": {},
   "outputs": [
    {
     "name": "stdout",
     "output_type": "stream",
     "text": [
      "Model: \"sequential_1\"\n",
      "_________________________________________________________________\n",
      " Layer (type)                Output Shape              Param #   \n",
      "=================================================================\n",
      " embedding_1 (Embedding)     (None, 91, 150)           427950    \n",
      "                                                                 \n",
      " bidirectional_3 (Bidirectio  (None, 91, 256)          285696    \n",
      " nal)                                                            \n",
      "                                                                 \n",
      " layer_normalization_3 (Laye  (None, 91, 256)          512       \n",
      " rNormalization)                                                 \n",
      "                                                                 \n",
      " dropout_2 (Dropout)         (None, 91, 256)           0         \n",
      "                                                                 \n",
      " bidirectional_4 (Bidirectio  (None, 91, 256)          296448    \n",
      " nal)                                                            \n",
      "                                                                 \n",
      " layer_normalization_4 (Laye  (None, 91, 256)          512       \n",
      " rNormalization)                                                 \n",
      "                                                                 \n",
      " dropout_3 (Dropout)         (None, 91, 256)           0         \n",
      "                                                                 \n",
      " bidirectional_5 (Bidirectio  (None, 91, 128)          164352    \n",
      " nal)                                                            \n",
      "                                                                 \n",
      " layer_normalization_5 (Laye  (None, 91, 128)          256       \n",
      " rNormalization)                                                 \n",
      "                                                                 \n",
      " gru_3 (GRU)                 (None, 32)                15552     \n",
      "                                                                 \n",
      " dense_1 (Dense)             (None, 6)                 198       \n",
      "                                                                 \n",
      "=================================================================\n",
      "Total params: 1,191,476\n",
      "Trainable params: 15,750\n",
      "Non-trainable params: 1,175,726\n",
      "_________________________________________________________________\n"
     ]
    }
   ],
   "source": [
    "bio_model = load_model(os.path.join(os.curdir, 'models', 'tamp.h5'))\n",
    "bio_model.layers[-1] = tf.keras.layers.Dense(8, activation='softmax')\n",
    "for layer in bio_model.layers[:-2]:\n",
    "    layer.trainable = False\n",
    "bio_model.compile(optimizer=tf.keras.optimizers.Adam(learning_rate=0.001),\n",
    "                  loss=tf.keras.losses.CategoricalCrossentropy(),\n",
    "                  metrics=METRICS)\n",
    "\n",
    "bio_model.summary()"
   ]
  },
  {
   "cell_type": "code",
   "execution_count": 61,
   "metadata": {},
   "outputs": [
    {
     "name": "stdout",
     "output_type": "stream",
     "text": [
      "Model: \"model\"\n",
      "_________________________________________________________________\n",
      " Layer (type)                Output Shape              Param #   \n",
      "=================================================================\n",
      " input_2 (InputLayer)        [(None, 91)]              0         \n",
      "                                                                 \n",
      " embedding_1 (Embedding)     (None, 91, 150)           427950    \n",
      "                                                                 \n",
      " bidirectional_3 (Bidirectio  (None, 91, 256)          285696    \n",
      " nal)                                                            \n",
      "                                                                 \n",
      " layer_normalization_3 (Laye  (None, 91, 256)          512       \n",
      " rNormalization)                                                 \n",
      "                                                                 \n",
      " dropout_2 (Dropout)         (None, 91, 256)           0         \n",
      "                                                                 \n",
      " bidirectional_4 (Bidirectio  (None, 91, 256)          296448    \n",
      " nal)                                                            \n",
      "                                                                 \n",
      " layer_normalization_4 (Laye  (None, 91, 256)          512       \n",
      " rNormalization)                                                 \n",
      "                                                                 \n",
      " dropout_3 (Dropout)         (None, 91, 256)           0         \n",
      "                                                                 \n",
      " bidirectional_5 (Bidirectio  (None, 91, 128)          164352    \n",
      " nal)                                                            \n",
      "                                                                 \n",
      " layer_normalization_5 (Laye  (None, 91, 128)          256       \n",
      " rNormalization)                                                 \n",
      "                                                                 \n",
      " gru_3 (GRU)                 (None, 32)                15552     \n",
      "                                                                 \n",
      "=================================================================\n",
      "Total params: 1,191,278\n",
      "Trainable params: 1,191,278\n",
      "Non-trainable params: 0\n",
      "_________________________________________________________________\n"
     ]
    }
   ],
   "source": [
    "from keras.models import Model\n",
    "bio_model = Model(inputs=loaded_model.input,\n",
    "                  outputs=loaded_model.layers[-2].output)\n",
    "bio_model.summary()"
   ]
  },
  {
   "cell_type": "code",
   "execution_count": 62,
   "metadata": {},
   "outputs": [
    {
     "name": "stdout",
     "output_type": "stream",
     "text": [
      "Model: \"model_1\"\n",
      "_________________________________________________________________\n",
      " Layer (type)                Output Shape              Param #   \n",
      "=================================================================\n",
      " input_2 (InputLayer)        [(None, 91)]              0         \n",
      "                                                                 \n",
      " embedding_1 (Embedding)     (None, 91, 150)           427950    \n",
      "                                                                 \n",
      " bidirectional_3 (Bidirectio  (None, 91, 256)          285696    \n",
      " nal)                                                            \n",
      "                                                                 \n",
      " layer_normalization_3 (Laye  (None, 91, 256)          512       \n",
      " rNormalization)                                                 \n",
      "                                                                 \n",
      " dropout_2 (Dropout)         (None, 91, 256)           0         \n",
      "                                                                 \n",
      " bidirectional_4 (Bidirectio  (None, 91, 256)          296448    \n",
      " nal)                                                            \n",
      "                                                                 \n",
      " layer_normalization_4 (Laye  (None, 91, 256)          512       \n",
      " rNormalization)                                                 \n",
      "                                                                 \n",
      " dropout_3 (Dropout)         (None, 91, 256)           0         \n",
      "                                                                 \n",
      " bidirectional_5 (Bidirectio  (None, 91, 128)          164352    \n",
      " nal)                                                            \n",
      "                                                                 \n",
      " layer_normalization_5 (Laye  (None, 91, 128)          256       \n",
      " rNormalization)                                                 \n",
      "                                                                 \n",
      " gru_3 (GRU)                 (None, 32)                15552     \n",
      "                                                                 \n",
      " dense_3 (Dense)             (None, 8)                 264       \n",
      "                                                                 \n",
      "=================================================================\n",
      "Total params: 1,191,542\n",
      "Trainable params: 15,816\n",
      "Non-trainable params: 1,175,726\n",
      "_________________________________________________________________\n"
     ]
    }
   ],
   "source": [
    "new_output = tf.keras.layers.Dense(\n",
    "    num_classes, activation='softmax')(bio_model.output)\n",
    "new_model = Model(inputs=bio_model.input, outputs=new_output)\n",
    "for layer in new_model.layers[:-2]:\n",
    "    layer.trainable = False\n",
    "new_model.compile(optimizer=tf.keras.optimizers.Adam(learning_rate=0.001),\n",
    "                  loss=tf.keras.losses.CategoricalCrossentropy(),\n",
    "                  metrics=METRICS)\n",
    "\n",
    "new_model.summary()"
   ]
  },
  {
   "cell_type": "code",
   "execution_count": null,
   "metadata": {},
   "outputs": [],
   "source": [
    "bio_callback = [\n",
    "    tf.keras.callbacks.EarlyStopping(\n",
    "        monitor='val_loss', patience=10, mode='auto', restore_best_weights=True),\n",
    "    tf.keras.callbacks.ModelCheckpoint(\n",
    "        filepath=os.path.join(os.curdir, 'models', 'bio_model.h5'), monitor='val_loss', save_best_only=True),\n",
    "    tf.keras.callbacks.ReduceLROnPlateau(\n",
    "        monitor='val_loss', factor=0.25, patience=3, mode='auto', min_lr=1e-5)\n",
    "]"
   ]
  },
  {
   "cell_type": "code",
   "execution_count": 64,
   "metadata": {},
   "outputs": [
    {
     "name": "stdout",
     "output_type": "stream",
     "text": [
      "Epoch 1/250\n",
      "50/50 [==============================] - 13s 102ms/step - loss: 1.9703 - accuracy: 0.6628 - precision: 0.8877 - recall: 0.5161 - auc: 0.9086 - val_loss: 1.2332 - val_accuracy: 0.6300 - val_precision: 1.0000 - val_recall: 0.1725 - val_auc: 0.9276 - lr: 0.0010\n",
      "Epoch 2/250\n",
      "50/50 [==============================] - 3s 57ms/step - loss: 1.1370 - accuracy: 0.7156 - precision: 0.9651 - recall: 0.2763 - auc: 0.9318 - val_loss: 0.8213 - val_accuracy: 0.8350 - val_precision: 1.0000 - val_recall: 0.5800 - val_auc: 0.9738 - lr: 0.0010\n",
      "Epoch 3/250\n",
      "50/50 [==============================] - 4s 76ms/step - loss: 0.8005 - accuracy: 0.8000 - precision: 0.9389 - recall: 0.5663 - auc: 0.9735 - val_loss: 0.5640 - val_accuracy: 0.8675 - val_precision: 1.0000 - val_recall: 0.6800 - val_auc: 0.9925 - lr: 0.0010\n",
      "Epoch 4/250\n",
      "50/50 [==============================] - 6s 126ms/step - loss: 0.5812 - accuracy: 0.8606 - precision: 0.9444 - recall: 0.7000 - auc: 0.9905 - val_loss: 0.3924 - val_accuracy: 0.9350 - val_precision: 1.0000 - val_recall: 0.8500 - val_auc: 0.9983 - lr: 0.0010\n",
      "Epoch 5/250\n",
      "50/50 [==============================] - 3s 70ms/step - loss: 0.4223 - accuracy: 0.9275 - precision: 0.9698 - recall: 0.8019 - auc: 0.9967 - val_loss: 0.2542 - val_accuracy: 1.0000 - val_precision: 1.0000 - val_recall: 0.9350 - val_auc: 1.0000 - lr: 0.0010\n",
      "Epoch 6/250\n",
      "50/50 [==============================] - 3s 67ms/step - loss: 0.2900 - accuracy: 0.9631 - precision: 0.9850 - recall: 0.9025 - auc: 0.9993 - val_loss: 0.1541 - val_accuracy: 1.0000 - val_precision: 1.0000 - val_recall: 0.9900 - val_auc: 1.0000 - lr: 0.0010\n",
      "Epoch 7/250\n",
      "50/50 [==============================] - 3s 52ms/step - loss: 0.1892 - accuracy: 0.9844 - precision: 0.9923 - recall: 0.9706 - auc: 0.9999 - val_loss: 0.0963 - val_accuracy: 1.0000 - val_precision: 1.0000 - val_recall: 1.0000 - val_auc: 1.0000 - lr: 0.0010\n",
      "Epoch 8/250\n",
      "50/50 [==============================] - 3s 52ms/step - loss: 0.1343 - accuracy: 0.9937 - precision: 0.9962 - recall: 0.9887 - auc: 0.9999 - val_loss: 0.0644 - val_accuracy: 1.0000 - val_precision: 1.0000 - val_recall: 1.0000 - val_auc: 1.0000 - lr: 0.0010\n",
      "Epoch 9/250\n",
      "50/50 [==============================] - 3s 52ms/step - loss: 0.0998 - accuracy: 0.9962 - precision: 0.9975 - recall: 0.9919 - auc: 1.0000 - val_loss: 0.0448 - val_accuracy: 1.0000 - val_precision: 1.0000 - val_recall: 1.0000 - val_auc: 1.0000 - lr: 0.0010\n",
      "Epoch 10/250\n",
      "50/50 [==============================] - 3s 56ms/step - loss: 0.0712 - accuracy: 0.9975 - precision: 0.9987 - recall: 0.9962 - auc: 1.0000 - val_loss: 0.0343 - val_accuracy: 1.0000 - val_precision: 1.0000 - val_recall: 1.0000 - val_auc: 1.0000 - lr: 0.0010\n",
      "Epoch 11/250\n",
      "50/50 [==============================] - 3s 70ms/step - loss: 0.0595 - accuracy: 0.9981 - precision: 0.9981 - recall: 0.9981 - auc: 1.0000 - val_loss: 0.0295 - val_accuracy: 1.0000 - val_precision: 1.0000 - val_recall: 1.0000 - val_auc: 1.0000 - lr: 0.0010\n",
      "Epoch 12/250\n",
      "50/50 [==============================] - 3s 54ms/step - loss: 0.0496 - accuracy: 1.0000 - precision: 1.0000 - recall: 0.9994 - auc: 1.0000 - val_loss: 0.0261 - val_accuracy: 1.0000 - val_precision: 1.0000 - val_recall: 1.0000 - val_auc: 1.0000 - lr: 0.0010\n",
      "Epoch 13/250\n",
      "50/50 [==============================] - 3s 53ms/step - loss: 0.0415 - accuracy: 0.9994 - precision: 0.9994 - recall: 0.9994 - auc: 1.0000 - val_loss: 0.0187 - val_accuracy: 1.0000 - val_precision: 1.0000 - val_recall: 1.0000 - val_auc: 1.0000 - lr: 0.0010\n",
      "Epoch 14/250\n",
      "50/50 [==============================] - 4s 87ms/step - loss: 0.0370 - accuracy: 0.9987 - precision: 0.9987 - recall: 0.9987 - auc: 1.0000 - val_loss: 0.0183 - val_accuracy: 1.0000 - val_precision: 1.0000 - val_recall: 1.0000 - val_auc: 1.0000 - lr: 0.0010\n",
      "Epoch 15/250\n",
      "50/50 [==============================] - 4s 83ms/step - loss: 0.0325 - accuracy: 0.9981 - precision: 0.9987 - recall: 0.9981 - auc: 1.0000 - val_loss: 0.0141 - val_accuracy: 1.0000 - val_precision: 1.0000 - val_recall: 1.0000 - val_auc: 1.0000 - lr: 0.0010\n",
      "Epoch 16/250\n",
      "50/50 [==============================] - 3s 53ms/step - loss: 0.0259 - accuracy: 0.9994 - precision: 0.9994 - recall: 0.9994 - auc: 1.0000 - val_loss: 0.0117 - val_accuracy: 1.0000 - val_precision: 1.0000 - val_recall: 1.0000 - val_auc: 1.0000 - lr: 0.0010\n",
      "Epoch 17/250\n",
      "50/50 [==============================] - 3s 51ms/step - loss: 0.0212 - accuracy: 1.0000 - precision: 1.0000 - recall: 1.0000 - auc: 1.0000 - val_loss: 0.0100 - val_accuracy: 1.0000 - val_precision: 1.0000 - val_recall: 1.0000 - val_auc: 1.0000 - lr: 0.0010\n",
      "Epoch 18/250\n",
      "50/50 [==============================] - 3s 61ms/step - loss: 0.0268 - accuracy: 0.9969 - precision: 0.9969 - recall: 0.9962 - auc: 1.0000 - val_loss: 0.0098 - val_accuracy: 1.0000 - val_precision: 1.0000 - val_recall: 1.0000 - val_auc: 1.0000 - lr: 0.0010\n",
      "Epoch 19/250\n",
      "50/50 [==============================] - 3s 55ms/step - loss: 0.0186 - accuracy: 1.0000 - precision: 1.0000 - recall: 1.0000 - auc: 1.0000 - val_loss: 0.0083 - val_accuracy: 1.0000 - val_precision: 1.0000 - val_recall: 1.0000 - val_auc: 1.0000 - lr: 0.0010\n",
      "Epoch 20/250\n",
      "50/50 [==============================] - 3s 63ms/step - loss: 0.0185 - accuracy: 0.9994 - precision: 0.9994 - recall: 0.9994 - auc: 1.0000 - val_loss: 0.0084 - val_accuracy: 1.0000 - val_precision: 1.0000 - val_recall: 1.0000 - val_auc: 1.0000 - lr: 0.0010\n",
      "Epoch 21/250\n",
      "50/50 [==============================] - 3s 54ms/step - loss: 0.0150 - accuracy: 1.0000 - precision: 1.0000 - recall: 1.0000 - auc: 1.0000 - val_loss: 0.0068 - val_accuracy: 1.0000 - val_precision: 1.0000 - val_recall: 1.0000 - val_auc: 1.0000 - lr: 0.0010\n",
      "Epoch 22/250\n",
      "50/50 [==============================] - 3s 51ms/step - loss: 0.0147 - accuracy: 1.0000 - precision: 1.0000 - recall: 1.0000 - auc: 1.0000 - val_loss: 0.0068 - val_accuracy: 1.0000 - val_precision: 1.0000 - val_recall: 1.0000 - val_auc: 1.0000 - lr: 0.0010\n",
      "Epoch 23/250\n",
      "50/50 [==============================] - 6s 115ms/step - loss: 0.0113 - accuracy: 1.0000 - precision: 1.0000 - recall: 1.0000 - auc: 1.0000 - val_loss: 0.0060 - val_accuracy: 1.0000 - val_precision: 1.0000 - val_recall: 1.0000 - val_auc: 1.0000 - lr: 0.0010\n",
      "Epoch 24/250\n",
      "50/50 [==============================] - 3s 53ms/step - loss: 0.0100 - accuracy: 1.0000 - precision: 1.0000 - recall: 1.0000 - auc: 1.0000 - val_loss: 0.0055 - val_accuracy: 1.0000 - val_precision: 1.0000 - val_recall: 1.0000 - val_auc: 1.0000 - lr: 0.0010\n",
      "Epoch 25/250\n",
      "50/50 [==============================] - 4s 73ms/step - loss: 0.0118 - accuracy: 1.0000 - precision: 1.0000 - recall: 1.0000 - auc: 1.0000 - val_loss: 0.0054 - val_accuracy: 1.0000 - val_precision: 1.0000 - val_recall: 1.0000 - val_auc: 1.0000 - lr: 0.0010\n",
      "Epoch 26/250\n",
      "50/50 [==============================] - 3s 62ms/step - loss: 0.0125 - accuracy: 0.9981 - precision: 0.9981 - recall: 0.9981 - auc: 1.0000 - val_loss: 0.0053 - val_accuracy: 1.0000 - val_precision: 1.0000 - val_recall: 1.0000 - val_auc: 1.0000 - lr: 0.0010\n",
      "Epoch 27/250\n",
      "50/50 [==============================] - 3s 53ms/step - loss: 0.0093 - accuracy: 1.0000 - precision: 1.0000 - recall: 1.0000 - auc: 1.0000 - val_loss: 0.0047 - val_accuracy: 1.0000 - val_precision: 1.0000 - val_recall: 1.0000 - val_auc: 1.0000 - lr: 0.0010\n",
      "Epoch 28/250\n",
      "50/50 [==============================] - 3s 54ms/step - loss: 0.0079 - accuracy: 1.0000 - precision: 1.0000 - recall: 1.0000 - auc: 1.0000 - val_loss: 0.0044 - val_accuracy: 1.0000 - val_precision: 1.0000 - val_recall: 1.0000 - val_auc: 1.0000 - lr: 0.0010\n",
      "Epoch 29/250\n",
      "50/50 [==============================] - 3s 57ms/step - loss: 0.0087 - accuracy: 0.9994 - precision: 0.9994 - recall: 0.9994 - auc: 1.0000 - val_loss: 0.0045 - val_accuracy: 1.0000 - val_precision: 1.0000 - val_recall: 1.0000 - val_auc: 1.0000 - lr: 0.0010\n",
      "Epoch 30/250\n",
      "50/50 [==============================] - 3s 53ms/step - loss: 0.0073 - accuracy: 1.0000 - precision: 1.0000 - recall: 1.0000 - auc: 1.0000 - val_loss: 0.0040 - val_accuracy: 1.0000 - val_precision: 1.0000 - val_recall: 1.0000 - val_auc: 1.0000 - lr: 0.0010\n",
      "Epoch 31/250\n",
      "50/50 [==============================] - 3s 51ms/step - loss: 0.0068 - accuracy: 1.0000 - precision: 1.0000 - recall: 1.0000 - auc: 1.0000 - val_loss: 0.0037 - val_accuracy: 1.0000 - val_precision: 1.0000 - val_recall: 1.0000 - val_auc: 1.0000 - lr: 0.0010\n",
      "Epoch 32/250\n",
      "50/50 [==============================] - 3s 52ms/step - loss: 0.0061 - accuracy: 1.0000 - precision: 1.0000 - recall: 1.0000 - auc: 1.0000 - val_loss: 0.0036 - val_accuracy: 1.0000 - val_precision: 1.0000 - val_recall: 1.0000 - val_auc: 1.0000 - lr: 0.0010\n",
      "Epoch 33/250\n",
      "50/50 [==============================] - 3s 61ms/step - loss: 0.0071 - accuracy: 0.9994 - precision: 0.9994 - recall: 0.9994 - auc: 1.0000 - val_loss: 0.0035 - val_accuracy: 1.0000 - val_precision: 1.0000 - val_recall: 1.0000 - val_auc: 1.0000 - lr: 0.0010\n",
      "Epoch 34/250\n",
      "50/50 [==============================] - 3s 54ms/step - loss: 0.0059 - accuracy: 1.0000 - precision: 1.0000 - recall: 1.0000 - auc: 1.0000 - val_loss: 0.0033 - val_accuracy: 1.0000 - val_precision: 1.0000 - val_recall: 1.0000 - val_auc: 1.0000 - lr: 0.0010\n",
      "Epoch 35/250\n",
      "50/50 [==============================] - 3s 55ms/step - loss: 0.0055 - accuracy: 1.0000 - precision: 1.0000 - recall: 1.0000 - auc: 1.0000 - val_loss: 0.0031 - val_accuracy: 1.0000 - val_precision: 1.0000 - val_recall: 1.0000 - val_auc: 1.0000 - lr: 0.0010\n",
      "Epoch 36/250\n",
      "50/50 [==============================] - 3s 53ms/step - loss: 0.0048 - accuracy: 1.0000 - precision: 1.0000 - recall: 1.0000 - auc: 1.0000 - val_loss: 0.0030 - val_accuracy: 1.0000 - val_precision: 1.0000 - val_recall: 1.0000 - val_auc: 1.0000 - lr: 0.0010\n",
      "Epoch 37/250\n",
      "50/50 [==============================] - 3s 51ms/step - loss: 0.0058 - accuracy: 1.0000 - precision: 1.0000 - recall: 1.0000 - auc: 1.0000 - val_loss: 0.0029 - val_accuracy: 1.0000 - val_precision: 1.0000 - val_recall: 1.0000 - val_auc: 1.0000 - lr: 0.0010\n",
      "Epoch 38/250\n",
      "50/50 [==============================] - 3s 51ms/step - loss: 0.0047 - accuracy: 1.0000 - precision: 1.0000 - recall: 1.0000 - auc: 1.0000 - val_loss: 0.0030 - val_accuracy: 1.0000 - val_precision: 1.0000 - val_recall: 1.0000 - val_auc: 1.0000 - lr: 0.0010\n",
      "Epoch 39/250\n",
      "50/50 [==============================] - 2s 49ms/step - loss: 0.0053 - accuracy: 1.0000 - precision: 1.0000 - recall: 1.0000 - auc: 1.0000 - val_loss: 0.0029 - val_accuracy: 1.0000 - val_precision: 1.0000 - val_recall: 1.0000 - val_auc: 1.0000 - lr: 0.0010\n",
      "Epoch 40/250\n",
      "50/50 [==============================] - 2s 49ms/step - loss: 0.0101 - accuracy: 0.9981 - precision: 0.9981 - recall: 0.9981 - auc: 1.0000 - val_loss: 0.0028 - val_accuracy: 1.0000 - val_precision: 1.0000 - val_recall: 1.0000 - val_auc: 1.0000 - lr: 0.0010\n",
      "Epoch 41/250\n",
      "50/50 [==============================] - 3s 51ms/step - loss: 0.0209 - accuracy: 0.9956 - precision: 0.9962 - recall: 0.9950 - auc: 1.0000 - val_loss: 0.0032 - val_accuracy: 1.0000 - val_precision: 1.0000 - val_recall: 1.0000 - val_auc: 1.0000 - lr: 0.0010\n",
      "Epoch 42/250\n",
      "50/50 [==============================] - 2s 48ms/step - loss: 0.0052 - accuracy: 1.0000 - precision: 1.0000 - recall: 1.0000 - auc: 1.0000 - val_loss: 0.0027 - val_accuracy: 1.0000 - val_precision: 1.0000 - val_recall: 1.0000 - val_auc: 1.0000 - lr: 0.0010\n",
      "Epoch 43/250\n",
      "50/50 [==============================] - 4s 72ms/step - loss: 0.0044 - accuracy: 1.0000 - precision: 1.0000 - recall: 1.0000 - auc: 1.0000 - val_loss: 0.0025 - val_accuracy: 1.0000 - val_precision: 1.0000 - val_recall: 1.0000 - val_auc: 1.0000 - lr: 0.0010\n",
      "Epoch 44/250\n",
      "50/50 [==============================] - 3s 70ms/step - loss: 0.0043 - accuracy: 1.0000 - precision: 1.0000 - recall: 1.0000 - auc: 1.0000 - val_loss: 0.0024 - val_accuracy: 1.0000 - val_precision: 1.0000 - val_recall: 1.0000 - val_auc: 1.0000 - lr: 0.0010\n",
      "Epoch 45/250\n",
      "50/50 [==============================] - 3s 54ms/step - loss: 0.0038 - accuracy: 1.0000 - precision: 1.0000 - recall: 1.0000 - auc: 1.0000 - val_loss: 0.0023 - val_accuracy: 1.0000 - val_precision: 1.0000 - val_recall: 1.0000 - val_auc: 1.0000 - lr: 0.0010\n",
      "Epoch 46/250\n",
      "50/50 [==============================] - 2s 49ms/step - loss: 0.0035 - accuracy: 1.0000 - precision: 1.0000 - recall: 1.0000 - auc: 1.0000 - val_loss: 0.0022 - val_accuracy: 1.0000 - val_precision: 1.0000 - val_recall: 1.0000 - val_auc: 1.0000 - lr: 0.0010\n",
      "Epoch 47/250\n",
      "50/50 [==============================] - 3s 61ms/step - loss: 0.0360 - accuracy: 0.9931 - precision: 0.9937 - recall: 0.9931 - auc: 0.9986 - val_loss: 0.0114 - val_accuracy: 1.0000 - val_precision: 1.0000 - val_recall: 1.0000 - val_auc: 1.0000 - lr: 0.0010\n",
      "Epoch 48/250\n",
      "50/50 [==============================] - 3s 60ms/step - loss: 0.0261 - accuracy: 0.9937 - precision: 0.9944 - recall: 0.9925 - auc: 1.0000 - val_loss: 0.0029 - val_accuracy: 1.0000 - val_precision: 1.0000 - val_recall: 1.0000 - val_auc: 1.0000 - lr: 0.0010\n",
      "Epoch 49/250\n",
      "50/50 [==============================] - 3s 57ms/step - loss: 0.0055 - accuracy: 1.0000 - precision: 1.0000 - recall: 1.0000 - auc: 1.0000 - val_loss: 0.0026 - val_accuracy: 1.0000 - val_precision: 1.0000 - val_recall: 1.0000 - val_auc: 1.0000 - lr: 2.5000e-04\n",
      "Epoch 50/250\n",
      "50/50 [==============================] - 3s 53ms/step - loss: 0.0044 - accuracy: 1.0000 - precision: 1.0000 - recall: 1.0000 - auc: 1.0000 - val_loss: 0.0025 - val_accuracy: 1.0000 - val_precision: 1.0000 - val_recall: 1.0000 - val_auc: 1.0000 - lr: 2.5000e-04\n",
      "Epoch 51/250\n",
      "50/50 [==============================] - 3s 52ms/step - loss: 0.0048 - accuracy: 1.0000 - precision: 1.0000 - recall: 1.0000 - auc: 1.0000 - val_loss: 0.0025 - val_accuracy: 1.0000 - val_precision: 1.0000 - val_recall: 1.0000 - val_auc: 1.0000 - lr: 2.5000e-04\n",
      "Epoch 52/250\n",
      "50/50 [==============================] - 4s 79ms/step - loss: 0.0042 - accuracy: 1.0000 - precision: 1.0000 - recall: 1.0000 - auc: 1.0000 - val_loss: 0.0024 - val_accuracy: 1.0000 - val_precision: 1.0000 - val_recall: 1.0000 - val_auc: 1.0000 - lr: 6.2500e-05\n",
      "Epoch 53/250\n",
      "50/50 [==============================] - 4s 73ms/step - loss: 0.0043 - accuracy: 1.0000 - precision: 1.0000 - recall: 1.0000 - auc: 1.0000 - val_loss: 0.0024 - val_accuracy: 1.0000 - val_precision: 1.0000 - val_recall: 1.0000 - val_auc: 1.0000 - lr: 6.2500e-05\n",
      "Epoch 54/250\n",
      "50/50 [==============================] - 3s 55ms/step - loss: 0.0040 - accuracy: 1.0000 - precision: 1.0000 - recall: 1.0000 - auc: 1.0000 - val_loss: 0.0024 - val_accuracy: 1.0000 - val_precision: 1.0000 - val_recall: 1.0000 - val_auc: 1.0000 - lr: 6.2500e-05\n",
      "Epoch 55/250\n",
      "50/50 [==============================] - 4s 83ms/step - loss: 0.0041 - accuracy: 1.0000 - precision: 1.0000 - recall: 1.0000 - auc: 1.0000 - val_loss: 0.0024 - val_accuracy: 1.0000 - val_precision: 1.0000 - val_recall: 1.0000 - val_auc: 1.0000 - lr: 1.5625e-05\n",
      "Epoch 56/250\n",
      "50/50 [==============================] - 4s 87ms/step - loss: 0.0039 - accuracy: 1.0000 - precision: 1.0000 - recall: 1.0000 - auc: 1.0000 - val_loss: 0.0024 - val_accuracy: 1.0000 - val_precision: 1.0000 - val_recall: 1.0000 - val_auc: 1.0000 - lr: 1.5625e-05\n"
     ]
    },
    {
     "data": {
      "text/plain": [
       "<keras.callbacks.History at 0x1f6caac6980>"
      ]
     },
     "execution_count": 64,
     "metadata": {},
     "output_type": "execute_result"
    }
   ],
   "source": [
    "new_model.fit(X_bio_train, Y_bio_train, epochs=250, batch_size=BATCH_SIZE,\n",
    "              callbacks=bio_callback, validation_split=0.2)"
   ]
  },
  {
   "cell_type": "code",
   "execution_count": null,
   "metadata": {},
   "outputs": [],
   "source": [
    "def predict_emotion(model, text: str):\n",
    "    result = {}\n",
    "    sentence = clean_text(pd.DataFrame(\n",
    "        {'text': [text]}), 'text', emotion_data.vocab_size, emotion_data.max_length)\n",
    "    prediction = model.predict(sentence)\n",
    "    for i in range(len(prediction[0])):\n",
    "        result[bio_label.inverse_transform(\n",
    "            [i])[0]] = prediction[0][i]\n",
    "    return result"
   ]
  },
  {
   "cell_type": "code",
   "execution_count": 77,
   "metadata": {},
   "outputs": [
    {
     "data": {
      "text/plain": [
       "array([[   0,    0,    0,    0,    0,    0,    0,    0,    0,    0,    0,\n",
       "           0,    0,    0,    0,    0,    0,    0,    0,    0,    0,    0,\n",
       "           0,    0,    0,    0,    0,    0,    0,    0,    0,    0,    0,\n",
       "           0,    0,    0,    0,    0,    0,    0,    0,    0,    0,    0,\n",
       "           0,    0,    0,    0,    0,    0,    0,    0,    0,    0,    0,\n",
       "           0,    0,    0,    0,    0,    0,    0,    0,    0,    0,    0,\n",
       "           0,    0,    0,    0,    0,    0,    0,    0, 2147,   53,  257,\n",
       "        1641,   28,    1, 1016,  131,   15,   19,    3,   32, 2026,  139,\n",
       "         170, 2829,    1]])"
      ]
     },
     "execution_count": 77,
     "metadata": {},
     "output_type": "execute_result"
    }
   ],
   "source": [
    "clean_text(pd.DataFrame({'text': [\"The staff: made my stay in hospital much more bearable, cheering me up when i was having a bad day! I would like to say a massive thank you to everyone in Ward 4a,\"]}), 'text', emotion_data.vocab_size, emotion_data.max_length)"
   ]
  },
  {
   "cell_type": "code",
   "execution_count": 74,
   "metadata": {},
   "outputs": [
    {
     "name": "stdout",
     "output_type": "stream",
     "text": [
      "1/1 [==============================] - 0s 34ms/step\n"
     ]
    },
    {
     "data": {
      "text/plain": [
       "{'anger': 0.060415212,\n",
       " 'calmness': 0.00073833246,\n",
       " 'disgust': 0.17531173,\n",
       " 'eagerness': 0.0025177447,\n",
       " 'fear': 0.20129168,\n",
       " 'joy': 0.5590164,\n",
       " 'pleasantness': 0.00013993912,\n",
       " 'sadness': 0.00056888274}"
      ]
     },
     "execution_count": 74,
     "metadata": {},
     "output_type": "execute_result"
    }
   ],
   "source": [
    "predict_emotion(new_model, \"The staff: made my stay in hospital much more bearable, cheering me up when i was having a bad day! I would like to say a massive thank you to everyone in Ward 4a,\")"
   ]
  },
  {
   "cell_type": "code",
   "execution_count": 68,
   "metadata": {},
   "outputs": [],
   "source": [
    "import joblib\n",
    "joblib.dump(bio_label, os.path.join(\n",
    "    os.curdir, 'models', 'bio_label_encoder.pkl'))\n",
    "loaded_le = joblib.load(os.path.join(\n",
    "    os.curdir, 'models', 'bio_label_encoder.pkl'))"
   ]
  },
  {
   "cell_type": "code",
   "execution_count": null,
   "metadata": {},
   "outputs": [],
   "source": []
  },
  {
   "cell_type": "code",
   "execution_count": null,
   "metadata": {},
   "outputs": [],
   "source": [
    "import json\n",
    "with open(os.path.join(os.curdir, 'models', 'bio_sizes.json'), 'w') as file:\n",
    "    json.dump({'vocab_size': emotion_data.vocab_size,\n",
    "              'max_length': emotion_data.max_length, 'num_classes': num_classes}, file)\n",
    "with open(os.path.join(os.curdir, 'models', 'bio_tokenizer.json'), 'w') as file:\n",
    "    file.write(emotion_data.tokenizer.to_json())"
   ]
  },
  {
   "cell_type": "code",
   "execution_count": 76,
   "metadata": {},
   "outputs": [
    {
     "data": {
      "text/plain": [
       "'.'"
      ]
     },
     "execution_count": 76,
     "metadata": {},
     "output_type": "execute_result"
    }
   ],
   "source": [
    "os.curdir"
   ]
  }
 ],
 "metadata": {
  "kernelspec": {
   "display_name": "rnn",
   "language": "python",
   "name": "python3"
  },
  "language_info": {
   "codemirror_mode": {
    "name": "ipython",
    "version": 3
   },
   "file_extension": ".py",
   "mimetype": "text/x-python",
   "name": "python",
   "nbconvert_exporter": "python",
   "pygments_lexer": "ipython3",
   "version": "3.10.15"
  }
 },
 "nbformat": 4,
 "nbformat_minor": 2
}
